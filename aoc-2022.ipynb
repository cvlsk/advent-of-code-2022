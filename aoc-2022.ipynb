{
 "cells": [
  {
   "cell_type": "code",
   "execution_count": 61,
   "metadata": {},
   "outputs": [
    {
     "name": "stdout",
     "output_type": "stream",
     "text": [
      "max 3 sum = 212836\n",
      "max sum = 74394\n"
     ]
    }
   ],
   "source": [
    "# Day 1: Calorie Counting\n",
    "\n",
    "sum=0\n",
    "max=[]\n",
    "with open('data/day1-input.txt') as f:\n",
    "    for line in f:\n",
    "        if (line != \"\\n\"):\n",
    "            sum=sum+int(line)\n",
    "        else:\n",
    "            max.append(sum)\n",
    "            sum=0\n",
    "max.sort()\n",
    "print(\"max 3 sum =\",max[len(max)-1]+max[len(max)-2]+max[len(max)-3])\n",
    "print(\"max sum =\",max[len(max)-1])\n"
   ]
  },
  {
   "cell_type": "code",
   "execution_count": 62,
   "metadata": {},
   "outputs": [
    {
     "name": "stdout",
     "output_type": "stream",
     "text": [
      "11475\n",
      "16862\n"
     ]
    }
   ],
   "source": [
    "# Day 2: Rock Paper Scissors\n",
    "\n",
    "# scenario 1 - my x,y,z = r,p,s\n",
    "\n",
    "score=0\n",
    "\n",
    "dict={\n",
    "    'A': 'r',\n",
    "    'B': 'p',\n",
    "    'C': 's',\n",
    "    'X': 'r',\n",
    "    'Y': 'p',\n",
    "    'Z': 's' }\n",
    "\n",
    "points={\n",
    "    'r': 1,\n",
    "    'p': 2,\n",
    "    's': 3,\n",
    "    'w': 6,\n",
    "    't': 3,\n",
    "    'l': 0 }       \n",
    "\n",
    "plays={\n",
    "    'l': [['r', 'p'],['p','s'],['s','r']],\n",
    "    't': [['r', 'r'],['p','p'],['s','s']],\n",
    "    'w': [['p', 'r'],['s','p'],['r','s']] }\n",
    "\n",
    "with open('data/day2-input.txt') as f:\n",
    "    for line in f:\n",
    "        play=line.strip('\\n').split(' ')\n",
    "        if [dict[play[1]],dict[play[0]]] in plays['t']:\n",
    "            score+=points['t']+points[dict[play[1]]]\n",
    "        elif [dict[play[1]],dict[play[0]]] in plays['w']:\n",
    "            score+=points['w']+points[dict[play[1]]]\n",
    "        else: \n",
    "            score+=points['l']+points[dict[play[1]]]\n",
    "\n",
    "print(score)\n",
    "\n",
    "# scenario 2 - my x,y,z = l,t,w\n",
    "\n",
    "score=0\n",
    "\n",
    "dict={\n",
    "    'A': 'r',\n",
    "    'B': 'p',\n",
    "    'C': 's',\n",
    "    'X': 'l',\n",
    "    'Y': 't',\n",
    "    'Z': 'w' }\n",
    "\n",
    "possible_plays={\n",
    "    'w': {\n",
    "        'r': 'p',\n",
    "        'p': 's',\n",
    "        's': 'r' },\n",
    "    't': {\n",
    "        'r': 'r',\n",
    "        'p': 'p',\n",
    "        's': 's'},\n",
    "    'l': {\n",
    "        'p': 'r',\n",
    "        's': 'p',\n",
    "        'r': 's' } }\n",
    "\n",
    "with open('data/day2-input.txt') as f:\n",
    "    for line in f:\n",
    "        play=line.strip('\\n').split(' ')\n",
    "        score+=points[dict[play[1]]]+points[possible_plays[dict[play[1]]][dict[play[0]]]]\n",
    "\n",
    "print(score)\n"
   ]
  },
  {
   "cell_type": "code",
   "execution_count": 63,
   "metadata": {},
   "outputs": [
    {
     "name": "stdout",
     "output_type": "stream",
     "text": [
      "7889 2825\n"
     ]
    }
   ],
   "source": [
    "# Day 3: Rucksack Reorganization\n",
    "\n",
    "import string\n",
    "pq=string.ascii_letters\n",
    "sp1=0\n",
    "sp2=0\n",
    "m=0\n",
    "group=[]\n",
    "\n",
    "with open('data/day3-input.txt') as f:\n",
    "    for line in f:\n",
    "        items=line.strip('\\n')\n",
    "        f = items[:len(items)//2]\n",
    "        s = items[len(items)//2:]\n",
    "        sp1+=pq.index(''.join(set(f)&set(s)))+1\n",
    "        group.append(items)\n",
    "        m+=1\n",
    "        if m==3:\n",
    "            sp2+=pq.index(''.join(set(group[0])&set(group[1])&set(group[2])))+1\n",
    "            m=0\n",
    "            group=[]\n",
    "\n",
    "print(sp1,sp2)\n"
   ]
  },
  {
   "cell_type": "code",
   "execution_count": 64,
   "metadata": {},
   "outputs": [
    {
     "name": "stdout",
     "output_type": "stream",
     "text": [
      "530 903\n"
     ]
    }
   ],
   "source": [
    "# Day 4: Camp Cleanup\n",
    "\n",
    "c1,c2=0,0\n",
    "\n",
    "with open('data/day4-input.txt') as f:\n",
    "    for line in f:\n",
    "        pairs=line.strip('\\n').split(',')\n",
    "        sections=pairs[0].split('-')+pairs[1].split('-')\n",
    "        r1=list(range(int(sections[0]),int(sections[1])+1))\n",
    "        r2=list(range(int(sections[2]),int(sections[3])+1))\n",
    "        if len(set(r1)&set(r2))>0:\n",
    "            c2+=1\n",
    "            if len(set(r1)&set(r2))==len(r2) or len(set(r1)&set(r2))==len(r1):\n",
    "                c1+=1\n",
    "\n",
    "print(c1,c2)"
   ]
  },
  {
   "cell_type": "code",
   "execution_count": 167,
   "metadata": {},
   "outputs": [
    {
     "name": "stdout",
     "output_type": "stream",
     "text": [
      "JCMHLVGMG\n",
      "LVMRWSSPZ\n"
     ]
    }
   ],
   "source": [
    "# Day 5: Supply Stacks\n",
    "\n",
    "def parse(stacking):\n",
    "    stacks = ['']*11\n",
    "    for line in stacking[:-1]: # ignore last line with crate column numbers\n",
    "        #print(line)\n",
    "        for i, box in enumerate(line[1::4]): # crate labels start at index 1 and occurs every 4 chars\n",
    "            #print(list(enumerate(line[1::4])))\n",
    "            if box != \" \": \n",
    "                stacks[i+1]+= box\n",
    "    return stacks\n",
    "    \n",
    "input = open('data/day5-input.txt').read()\n",
    "stacking, moves = [part.split(\"\\n\") for part in input.split(\"\\n\\n\")] # split stack and moving instructions \n",
    "stacks = parse(stacking)\n",
    "\n",
    "#print(stacks) # stacks read top -> down from left -> right\n",
    "\n",
    "# scenario 1 - move crates one by one from top\n",
    "\n",
    "for move in moves: # get transfer details total moves, src, tgt\n",
    "    [num, src, tgt] = [int(item) for item in move.split(' ') if item.isnumeric()]\n",
    "\n",
    "    for i in range(num):\n",
    "        stacks[tgt]=stacks[src][0]+stacks[tgt] # tgt stack = incoming crate + old stack\n",
    "        stacks[src]=stacks[src][1:] # remove crate from src stack\n",
    "        #print(stacks)\n",
    "\n",
    "print(''.join([stack[0] for stack in stacks if stack !=''])) # print all top crates \n",
    "\n",
    "# scenario 2 - move crates in multiples\n",
    "stacks=parse(stacking)\n",
    "for move in moves: # get transfer details total moves, src, tgt\n",
    "    [num, src, tgt] = [int(item) for item in move.split(' ') if item.isnumeric()]\n",
    "    stacks[tgt]=stacks[src][:num]+stacks[tgt] # tgt stack = incoming crates + old stack\n",
    "    stacks[src]=stacks[src][num:] # remove crates from src stack\n",
    "    #print(stacks)\n",
    "\n",
    "print(''.join([stack[0] for stack in stacks if stack !=''])) # print all top crates \n"
   ]
  },
  {
   "cell_type": "code",
   "execution_count": 183,
   "metadata": {},
   "outputs": [
    {
     "name": "stdout",
     "output_type": "stream",
     "text": [
      "sop marker: 7\n",
      "som marker 19\n",
      "sop marker: 5\n",
      "som marker 23\n",
      "sop marker: 6\n",
      "som marker 23\n",
      "sop marker: 10\n",
      "som marker 29\n",
      "sop marker: 11\n",
      "som marker 26\n"
     ]
    }
   ],
   "source": [
    "# Day 6: Tuning Trouble\n",
    "\n",
    "with open('data/day6-input-example.txt') as f:\n",
    "    for line in f:\n",
    "        msg=line.strip('\\n')\n",
    "        for i in range(len(msg)):\n",
    "            # start of packet marker\n",
    "            if len(set(msg[i:i+4]))==4:\n",
    "                print(\"sop marker:\",i+4)\n",
    "                break\n",
    "        for i in range(len(msg)):            \n",
    "            # start of message marker \n",
    "            if len(set(msg[i:i+14]))==14:\n",
    "                print(\"som marker\",i+14)\n",
    "                break\n",
    "        "
   ]
  }
 ],
 "metadata": {
  "kernelspec": {
   "display_name": "Python 3.8.5 ('base')",
   "language": "python",
   "name": "python3"
  },
  "language_info": {
   "codemirror_mode": {
    "name": "ipython",
    "version": 3
   },
   "file_extension": ".py",
   "mimetype": "text/x-python",
   "name": "python",
   "nbconvert_exporter": "python",
   "pygments_lexer": "ipython3",
   "version": "3.8.5"
  },
  "orig_nbformat": 4,
  "vscode": {
   "interpreter": {
    "hash": "40d3a090f54c6569ab1632332b64b2c03c39dcf918b08424e98f38b5ae0af88f"
   }
  }
 },
 "nbformat": 4,
 "nbformat_minor": 2
}
