{
 "cells": [
  {
   "cell_type": "code",
   "execution_count": 17,
   "metadata": {},
   "outputs": [
    {
     "name": "stdout",
     "output_type": "stream",
     "text": [
      "max 3 sum = 212836\n",
      "max sum = 74394\n"
     ]
    }
   ],
   "source": [
    "# Day 1: Calorie Counting\n",
    "\n",
    "sum =0\n",
    "max =[]\n",
    "with open('data/day1-input.txt') as f:\n",
    "    for line in f:\n",
    "        if (line != '\\n'):\n",
    "            sum=sum+int(line)\n",
    "        else:\n",
    "            max.append(sum)\n",
    "            sum=0\n",
    "max.sort()\n",
    "print(\"max 3 sum -\",max[len(max)-1]+max[len(max)-2]+max[len(max)-3])\n",
    "print(\"max sum -\",max[len(max)-1])\n"
   ]
  },
  {
   "cell_type": "code",
   "execution_count": 15,
   "metadata": {},
   "outputs": [
    {
     "name": "stdout",
     "output_type": "stream",
     "text": [
      "my x,y,z = r,p,s - score -  11475\n",
      "my x,y,z = l,t,w - score - 16862\n"
     ]
    }
   ],
   "source": [
    "# Day 2: Rock Paper Scissors\n",
    "\n",
    "# scenario 1 - my x,y,z = r,p,s\n",
    "\n",
    "score=0\n",
    "\n",
    "dict={\n",
    "    'A': 'r',\n",
    "    'B': 'p',\n",
    "    'C': 's',\n",
    "    'X': 'r',\n",
    "    'Y': 'p',\n",
    "    'Z': 's' }\n",
    "\n",
    "points={\n",
    "    'r': 1,\n",
    "    'p': 2,\n",
    "    's': 3,\n",
    "    'w': 6,\n",
    "    't': 3,\n",
    "    'l': 0 }       \n",
    "\n",
    "plays={\n",
    "    'l': [['r', 'p'],['p','s'],['s','r']],\n",
    "    't': [['r', 'r'],['p','p'],['s','s']],\n",
    "    'w': [['p', 'r'],['s','p'],['r','s']] }\n",
    "\n",
    "with open('data/day2-input.txt') as f:\n",
    "    for line in f:\n",
    "        play=line.strip('\\n').split(' ')\n",
    "        if [dict[play[1]],dict[play[0]]] in plays['t']:\n",
    "            score+=points['t']+points[dict[play[1]]]\n",
    "        elif [dict[play[1]],dict[play[0]]] in plays['w']:\n",
    "            score+=points['w']+points[dict[play[1]]]\n",
    "        else: \n",
    "            score+=points['l']+points[dict[play[1]]]\n",
    "\n",
    "print(\"my x,y,z = r,p,s - score -\",score)\n",
    "\n",
    "# scenario 2 - my x,y,z = l,t,w\n",
    "\n",
    "score=0\n",
    "\n",
    "dict={\n",
    "    'A': 'r',\n",
    "    'B': 'p',\n",
    "    'C': 's',\n",
    "    'X': 'l',\n",
    "    'Y': 't',\n",
    "    'Z': 'w' }\n",
    "\n",
    "possible_plays={\n",
    "    'w': {\n",
    "        'r': 'p',\n",
    "        'p': 's',\n",
    "        's': 'r' },\n",
    "    't': {\n",
    "        'r': 'r',\n",
    "        'p': 'p',\n",
    "        's': 's'},\n",
    "    'l': {\n",
    "        'p': 'r',\n",
    "        's': 'p',\n",
    "        'r': 's' } }\n",
    "\n",
    "with open('data/day2-input.txt') as f:\n",
    "    for line in f:\n",
    "        play=line.strip('\\n').split(' ')\n",
    "        score+=points[dict[play[1]]]+points[possible_plays[dict[play[1]]][dict[play[0]]]]\n",
    "\n",
    "print(\"my x,y,z = l,t,w - score -\",score)\n"
   ]
  },
  {
   "cell_type": "code",
   "execution_count": 19,
   "metadata": {},
   "outputs": [
    {
     "name": "stdout",
     "output_type": "stream",
     "text": [
      "7889 2825\n"
     ]
    }
   ],
   "source": [
    "# Day 3: Rucksack Reorganization\n",
    "\n",
    "import string\n",
    "\n",
    "pq          = string.ascii_letters\n",
    "m,sp1,sp2   = 0,0,0\n",
    "group       = []\n",
    "\n",
    "with open('data/day3-input.txt') as f:\n",
    "    for line in f:\n",
    "        items=line.strip('\\n')\n",
    "        f = items[:len(items)//2]\n",
    "        s = items[len(items)//2:]\n",
    "        sp1+=pq.index(''.join(set(f)&set(s)))+1\n",
    "        group.append(items)\n",
    "        m+=1\n",
    "        if m==3:\n",
    "            sp2+=pq.index(''.join(set(group[0])&set(group[1])&set(group[2])))+1\n",
    "            m=0\n",
    "            group=[]\n",
    "\n",
    "print(\"sum priorities 1 -\",sp1)\n",
    "print(\"sum priorities 2 -\",sp2)\n"
   ]
  },
  {
   "cell_type": "code",
   "execution_count": 16,
   "metadata": {},
   "outputs": [
    {
     "name": "stdout",
     "output_type": "stream",
     "text": [
      "fully contained pairs - 530\n",
      "overlapping pairs - 903\n"
     ]
    }
   ],
   "source": [
    "# Day 4: Camp Cleanup\n",
    "\n",
    "c1,c2=0,0\n",
    "\n",
    "with open('data/day4-input.txt') as f:\n",
    "    for line in f:\n",
    "        pairs=line.strip('\\n').split(',')\n",
    "        sections=pairs[0].split('-')+pairs[1].split('-')\n",
    "        r1=list(range(int(sections[0]),int(sections[1])+1))\n",
    "        r2=list(range(int(sections[2]),int(sections[3])+1))\n",
    "        if len(set(r1)&set(r2))>0:\n",
    "            c2+=1\n",
    "            if len(set(r1)&set(r2))==len(r2) or len(set(r1)&set(r2))==len(r1):\n",
    "                c1+=1\n",
    "\n",
    "print(\"fully contained pairs -\",c1)\n",
    "print(\"overlapping pairs -\",c2)\n"
   ]
  },
  {
   "cell_type": "code",
   "execution_count": 17,
   "metadata": {},
   "outputs": [
    {
     "name": "stdout",
     "output_type": "stream",
     "text": [
      "single move top crates - JCMHLVGMG\n",
      "multiple move top crates - LVMRWSSPZ\n"
     ]
    }
   ],
   "source": [
    "# Day 5: Supply Stacks\n",
    "\n",
    "def parse(stacking):\n",
    "    stacks = ['']*11\n",
    "    for line in stacking[:-1]: # ignore last line with crate column numbers\n",
    "        #print(line)\n",
    "        for i, box in enumerate(line[1::4]): # crate labels start at index 1 and occurs every 4 chars\n",
    "            #print(list(enumerate(line[1::4])))\n",
    "            if box != \" \": \n",
    "                stacks[i+1]+= box\n",
    "    return stacks\n",
    "    \n",
    "input           = open('data/day5-input.txt').read()\n",
    "stacking, moves = [part.split(\"\\n\") for part in input.split(\"\\n\\n\")] # split stack and moving instructions \n",
    "stacks          = parse(stacking)\n",
    "\n",
    "#print(stacks) # stacks read top -> down from left -> right\n",
    "\n",
    "# scenario 1 - move crates one by one from top\n",
    "\n",
    "for move in moves: # get transfer details total moves, src, tgt\n",
    "    [num, src, tgt] = [int(item) for item in move.split(' ') if item.isnumeric()]\n",
    "\n",
    "    for i in range(num):\n",
    "        stacks[tgt]=stacks[src][0]+stacks[tgt] # tgt stack = incoming crate + old stack\n",
    "        stacks[src]=stacks[src][1:] # remove crate from src stack\n",
    "        #print(stacks)\n",
    "\n",
    "print(\"single move top crates -\",''.join([stack[0] for stack in stacks if stack !=''])) # print all top crates \n",
    "\n",
    "# scenario 2 - move crates in multiples\n",
    "stacks=parse(stacking)\n",
    "for move in moves: # get transfer details total moves, src, tgt\n",
    "    [num, src, tgt] = [int(item) for item in move.split(' ') if item.isnumeric()]\n",
    "    stacks[tgt]=stacks[src][:num]+stacks[tgt] # tgt stack = incoming crates + old stack\n",
    "    stacks[src]=stacks[src][num:] # remove crates from src stack\n",
    "    #print(stacks)\n",
    "\n",
    "print(\"multiple move top crates -\",''.join([stack[0] for stack in stacks if stack !=''])) # print all top crates \n"
   ]
  },
  {
   "cell_type": "code",
   "execution_count": 21,
   "metadata": {},
   "outputs": [
    {
     "name": "stdout",
     "output_type": "stream",
     "text": [
      "sop marker: 1531\n",
      "som marker: 2518\n"
     ]
    }
   ],
   "source": [
    "# Day 6: Tuning Trouble\n",
    "\n",
    "with open('data/day6-input.txt') as f:\n",
    "    for line in f:\n",
    "        msg=line.strip('\\n')\n",
    "        for i in range(len(msg)):\n",
    "            # start of packet marker\n",
    "            if len(set(msg[i:i+4]))==4:\n",
    "                print(\"sop marker:\",i+4)\n",
    "                break\n",
    "        for i in range(len(msg)):            \n",
    "            # start of message marker \n",
    "            if len(set(msg[i:i+14]))==14:\n",
    "                print(\"som marker:\",i+14)\n",
    "                break\n",
    "        "
   ]
  },
  {
   "cell_type": "code",
   "execution_count": 24,
   "metadata": {},
   "outputs": [
    {
     "name": "stdout",
     "output_type": "stream",
     "text": [
      "total dirs size - 1543140\n",
      "smallest dir size to be deleted - 1117448\n"
     ]
    }
   ],
   "source": [
    "# Day 7: No Space Left On Device\n",
    "\n",
    "filesystem  = {'/': 0}\n",
    "pwd         = ''\n",
    "first       = True\n",
    "\n",
    "with open('data/day7-input.txt') as f:\n",
    "    for lines in f:\n",
    "        #print(pwd)\n",
    "        if first:\n",
    "            first=False\n",
    "            continue\n",
    "        else:\n",
    "            line=lines.strip('\\n')                \n",
    "            if '..' in line:\n",
    "                pwd = pwd[:pwd.rindex('/')]\n",
    "            elif '$ cd' in line:\n",
    "                pwd = pwd + '/' + line[5:]\n",
    "                filesystem[pwd] = 0\n",
    "            elif line.split(' ')[0].isnumeric():\n",
    "                filesystem['/'] += int(line.split(' ')[0])\n",
    "                cur = pwd\n",
    "                while cur:\n",
    "                    #print(cur)\n",
    "                    filesystem[cur] += int(line.split(' ')[0])\n",
    "                    cur = cur[:cur.rindex('/')] if '/' in cur else ''\n",
    "\n",
    "#print(filesystem)\n",
    "\n",
    "print(\"total dirs size -\", sum([size for size in filesystem.values() if size <= 100000]))  # type: ignore\n",
    "minToFree = filesystem['/'] + 30000000 - 70000000\n",
    "print(\"smallest dir size to be deleted -\",[size for size in sorted(filesystem.values()) if size - minToFree > 0][0])\n"
   ]
  },
  {
   "cell_type": "code",
   "execution_count": 26,
   "metadata": {},
   "outputs": [
    {
     "name": "stdout",
     "output_type": "stream",
     "text": [
      "totalTreesVisible - 1805\n",
      "max(scenicScores) - 444528\n"
     ]
    }
   ],
   "source": [
    "# Day 8: Treetop Tree House\n",
    "\n",
    "def scenicScoreOf(val, l):\n",
    "    score=0\n",
    "    for item in l:\n",
    "        score+=1\n",
    "        if item>=val:\n",
    "            break\n",
    "    return score\n",
    "\n",
    "grid    = []\n",
    "b       = []\n",
    "\n",
    "with open('data/day8-input.txt') as f:\n",
    "    for line in f:\n",
    "        for char in line.strip():\n",
    "            b.append(int(char))\n",
    "        grid.append(b)\n",
    "        b=[]    \n",
    "\n",
    "height, width       = len(grid), len(grid[0])\n",
    "totalTreesVisible   = 0\n",
    "scenicScores        = set()\n",
    "\n",
    "totalTreesVisible+=(len(grid)+len(grid[0])-2)*2 # check circumference\n",
    "\n",
    "for r in range(1, height-1):\n",
    "    row = grid[r]\n",
    "    for c in range(1, width-1):\n",
    "        top     = [grid[k][c] for k in range(r-1, -1, -1)] # step=-1, stop at -1 because actual stop at index 0\n",
    "        topS    = scenicScoreOf(row[c],top)\n",
    "        \n",
    "        bottom  = [grid[k][c] for k in range(r+1, height)]\n",
    "        bottomS = scenicScoreOf(row[c],bottom)\n",
    "        \n",
    "        right   = [row[k] for k in range(c+1, width)]\n",
    "        rightS  = scenicScoreOf(row[c], right)\n",
    "        \n",
    "        left    = [row[k] for k in range(c-1, -1, -1)] # step=-1, stop at -1 because actual stop at index 0\n",
    "        leftS   = scenicScoreOf(row[c],left)\n",
    "\n",
    "        #print(top, bottom, right, left)\n",
    "        if row[c] > max(top) or row[c] > max(bottom) or row[c] > max(right) or row[c] > max(left):  \n",
    "           totalTreesVisible += 1\n",
    "        \n",
    "        scenicScores.add(topS*bottomS*rightS*leftS)\n",
    "\n",
    "print(\"totalTreesVisible -\",totalTreesVisible)\n",
    "print(\"max(scenicScores) -\",max(scenicScores))\n"
   ]
  },
  {
   "cell_type": "code",
   "execution_count": 60,
   "metadata": {},
   "outputs": [
    {
     "name": "stdout",
     "output_type": "stream",
     "text": [
      "shortRopeTailTouched - 6376\n",
      "bigRopeTailTouched - 2607\n"
     ]
    }
   ],
   "source": [
    "# Day 9: Rope Bridge\n",
    "\n",
    "def calcTailGivenHead(h,t):\n",
    "    hx1,hy1=h[0],h[1]\n",
    "    tx1,ty1=t[0],t[1]\n",
    "\n",
    "    if hx1!=tx1 and hy1!=ty1:   # case diagonal\n",
    "        if abs(hy1-ty1)==2 or abs(hx1-tx1)==2: # diagonal but not touching\n",
    "            if hy1>ty1:     # head above tail \n",
    "                if hx1>tx1: # head right of tail\n",
    "                    tx1+=1\n",
    "                    ty1+=1\n",
    "                else:       # head left of tail\n",
    "                    tx1-=1\n",
    "                    ty1+=1\n",
    "            else: # hy1<ty1 # head below tail\n",
    "                if hx1>tx1: # head right of tail\n",
    "                    tx1+=1\n",
    "                    ty1-=1\n",
    "                else:       # head left of tail\n",
    "                    tx1-=1\n",
    "                    ty1-=1\n",
    "    else:\n",
    "        if abs(hx1-tx1)==2 and hy1==ty1: # same row\n",
    "            if hx1>tx1:\n",
    "                tx1+=1\n",
    "            else:\n",
    "                tx1-=1\n",
    "        if abs(hy1-ty1)==2 and hx1==tx1: # same col\n",
    "            if hy1>ty1:\n",
    "                ty1+=1\n",
    "            else:\n",
    "                ty1-=1\n",
    "    return tx1,ty1\n",
    "\n",
    "def calcRope(rope):\n",
    "    for i in range(1,len(rope)):\n",
    "        a,b=calcTailGivenHead(rope[i-1],rope[i])\n",
    "        rope[i]=(a,b)\n",
    "    return rope\n",
    "\n",
    "def visitedTails(file,rope):\n",
    "    hx,hy       = 0,0\n",
    "    tailTouched = set()\n",
    "    tailTouched.add((0,0))\n",
    "\n",
    "    with open(file) as f:\n",
    "        for line in f:\n",
    "            move=line.strip().split()\n",
    "            if move[0]=='R':\n",
    "                for i in range(int(move[1])):\n",
    "                    hx+=1\n",
    "                    rope[0]=(hx,hy)\n",
    "                    rope=calcRope(rope)\n",
    "                    tailTouched.add(rope[len(rope)-1])\n",
    "            elif move[0]=='L':\n",
    "                for i in range(int(move[1])):\n",
    "                    hx-=1\n",
    "                    rope[0]=(hx,hy)\n",
    "                    rope=calcRope(rope)\n",
    "                    tailTouched.add(rope[len(rope)-1])\n",
    "            elif move[0]=='U':\n",
    "                for i in range(int(move[1])):\n",
    "                    hy+=1\n",
    "                    rope[0]=(hx,hy)\n",
    "                    rope=calcRope(rope)\n",
    "                    tailTouched.add(rope[len(rope)-1])\n",
    "            elif move[0]=='D':\n",
    "                for i in range(int(move[1])):\n",
    "                    hy-=1\n",
    "                    rope[0]=(hx,hy)\n",
    "                    rope=calcRope(rope)\n",
    "                    tailTouched.add(rope[len(rope)-1])\n",
    "\n",
    "    return len(tailTouched)\n",
    "\n",
    "\n",
    "shortRope   = {i:(0,0) for i in range(2)}   # h,t rope\n",
    "bigRope     = {i:(0,0) for i in range(10)}  # h,...,t rope\n",
    "\n",
    "print(\"shortRopeTailTouched -\",visitedTails(\"data/day9-input.txt\",shortRope))\n",
    "print(\"bigRopeTailTouched -\",visitedTails(\"data/day9-input.txt\",bigRope))\n",
    "\n"
   ]
  }
 ],
 "metadata": {
  "kernelspec": {
   "display_name": "Python 3.8.5 ('base')",
   "language": "python",
   "name": "python3"
  },
  "language_info": {
   "codemirror_mode": {
    "name": "ipython",
    "version": 3
   },
   "file_extension": ".py",
   "mimetype": "text/x-python",
   "name": "python",
   "nbconvert_exporter": "python",
   "pygments_lexer": "ipython3",
   "version": "3.8.5"
  },
  "orig_nbformat": 4,
  "vscode": {
   "interpreter": {
    "hash": "40d3a090f54c6569ab1632332b64b2c03c39dcf918b08424e98f38b5ae0af88f"
   }
  }
 },
 "nbformat": 4,
 "nbformat_minor": 2
}
